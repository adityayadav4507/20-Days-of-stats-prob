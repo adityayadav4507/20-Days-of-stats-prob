{
  "nbformat": 4,
  "nbformat_minor": 0,
  "metadata": {
    "colab": {
      "provenance": [],
      "authorship_tag": "ABX9TyPl38EPikhNKQR2tD4CsLM/",
      "include_colab_link": true
    },
    "kernelspec": {
      "name": "python3",
      "display_name": "Python 3"
    },
    "language_info": {
      "name": "python"
    }
  },
  "cells": [
    {
      "cell_type": "markdown",
      "metadata": {
        "id": "view-in-github",
        "colab_type": "text"
      },
      "source": [
        "<a href=\"https://colab.research.google.com/github/adityayadav4507/20-Days-of-stats-prob/blob/main/3_Day_PDF.ipynb\" target=\"_parent\"><img src=\"https://colab.research.google.com/assets/colab-badge.svg\" alt=\"Open In Colab\"/></a>"
      ]
    },
    {
      "cell_type": "code",
      "execution_count": 134,
      "metadata": {
        "id": "-q7g1geLYWuf"
      },
      "outputs": [],
      "source": [
        "import pandas as pd\n",
        "import numpy as np\n",
        "import random\n"
      ]
    },
    {
      "cell_type": "code",
      "source": [
        "# throw a dice 1000 times\n",
        "l=[]\n",
        "for i in range(1000):\n",
        "   a=random.randint(1,6)\n",
        "   l.append(a)"
      ],
      "metadata": {
        "id": "C4Dc912QZKXB"
      },
      "execution_count": 135,
      "outputs": []
    },
    {
      "cell_type": "code",
      "source": [
        "s=pd.Series(l).value_counts()/(len(l))"
      ],
      "metadata": {
        "id": "rfmqiZ7-ZyQE"
      },
      "execution_count": 136,
      "outputs": []
    },
    {
      "cell_type": "code",
      "source": [
        "s.sort_index()"
      ],
      "metadata": {
        "colab": {
          "base_uri": "https://localhost:8080/",
          "height": 272
        },
        "id": "0dBtbj38fIlK",
        "outputId": "f21d2817-cf2b-4343-922c-5a737cf80d8e"
      },
      "execution_count": 137,
      "outputs": [
        {
          "output_type": "execute_result",
          "data": {
            "text/plain": [
              "1    0.144\n",
              "2    0.158\n",
              "3    0.154\n",
              "4    0.192\n",
              "5    0.187\n",
              "6    0.165\n",
              "Name: count, dtype: float64"
            ],
            "text/html": [
              "<div>\n",
              "<style scoped>\n",
              "    .dataframe tbody tr th:only-of-type {\n",
              "        vertical-align: middle;\n",
              "    }\n",
              "\n",
              "    .dataframe tbody tr th {\n",
              "        vertical-align: top;\n",
              "    }\n",
              "\n",
              "    .dataframe thead th {\n",
              "        text-align: right;\n",
              "    }\n",
              "</style>\n",
              "<table border=\"1\" class=\"dataframe\">\n",
              "  <thead>\n",
              "    <tr style=\"text-align: right;\">\n",
              "      <th></th>\n",
              "      <th>count</th>\n",
              "    </tr>\n",
              "  </thead>\n",
              "  <tbody>\n",
              "    <tr>\n",
              "      <th>1</th>\n",
              "      <td>0.144</td>\n",
              "    </tr>\n",
              "    <tr>\n",
              "      <th>2</th>\n",
              "      <td>0.158</td>\n",
              "    </tr>\n",
              "    <tr>\n",
              "      <th>3</th>\n",
              "      <td>0.154</td>\n",
              "    </tr>\n",
              "    <tr>\n",
              "      <th>4</th>\n",
              "      <td>0.192</td>\n",
              "    </tr>\n",
              "    <tr>\n",
              "      <th>5</th>\n",
              "      <td>0.187</td>\n",
              "    </tr>\n",
              "    <tr>\n",
              "      <th>6</th>\n",
              "      <td>0.165</td>\n",
              "    </tr>\n",
              "  </tbody>\n",
              "</table>\n",
              "</div><br><label><b>dtype:</b> float64</label>"
            ]
          },
          "metadata": {},
          "execution_count": 137
        }
      ]
    },
    {
      "cell_type": "code",
      "source": [
        "import matplotlib.pyplot as plt\n",
        "s.plot(kind='bar')"
      ],
      "metadata": {
        "colab": {
          "base_uri": "https://localhost:8080/",
          "height": 445
        },
        "id": "mL6VZDgWd1qV",
        "outputId": "af1daade-3b85-410e-e104-9aa10c72b31f"
      },
      "execution_count": 138,
      "outputs": [
        {
          "output_type": "execute_result",
          "data": {
            "text/plain": [
              "<Axes: >"
            ]
          },
          "metadata": {},
          "execution_count": 138
        },
        {
          "output_type": "display_data",
          "data": {
            "text/plain": [
              "<Figure size 640x480 with 1 Axes>"
            ],
            "image/png": "[encoded data removed]"
          },
          "metadata": {}
        }
      ]
    },
    {
      "cell_type": "code",
      "source": [
        "# CDF\n",
        "np.cumsum(s.sort_index())"
      ],
      "metadata": {
        "colab": {
          "base_uri": "https://localhost:8080/",
          "height": 272
        },
        "id": "IbLsT1xIhlI1",
        "outputId": "4b4195a9-d2e2-44dd-d771-d9a635a26217"
      },
      "execution_count": 139,
      "outputs": [
        {
          "output_type": "execute_result",
          "data": {
            "text/plain": [
              "1    0.144\n",
              "2    0.302\n",
              "3    0.456\n",
              "4    0.648\n",
              "5    0.835\n",
              "6    1.000\n",
              "Name: count, dtype: float64"
            ],
            "text/html": [
              "<div>\n",
              "<style scoped>\n",
              "    .dataframe tbody tr th:only-of-type {\n",
              "        vertical-align: middle;\n",
              "    }\n",
              "\n",
              "    .dataframe tbody tr th {\n",
              "        vertical-align: top;\n",
              "    }\n",
              "\n",
              "    .dataframe thead th {\n",
              "        text-align: right;\n",
              "    }\n",
              "</style>\n",
              "<table border=\"1\" class=\"dataframe\">\n",
              "  <thead>\n",
              "    <tr style=\"text-align: right;\">\n",
              "      <th></th>\n",
              "      <th>count</th>\n",
              "    </tr>\n",
              "  </thead>\n",
              "  <tbody>\n",
              "    <tr>\n",
              "      <th>1</th>\n",
              "      <td>0.144</td>\n",
              "    </tr>\n",
              "    <tr>\n",
              "      <th>2</th>\n",
              "      <td>0.302</td>\n",
              "    </tr>\n",
              "    <tr>\n",
              "      <th>3</th>\n",
              "      <td>0.456</td>\n",
              "    </tr>\n",
              "    <tr>\n",
              "      <th>4</th>\n",
              "      <td>0.648</td>\n",
              "    </tr>\n",
              "    <tr>\n",
              "      <th>5</th>\n",
              "      <td>0.835</td>\n",
              "    </tr>\n",
              "    <tr>\n",
              "      <th>6</th>\n",
              "      <td>1.000</td>\n",
              "    </tr>\n",
              "  </tbody>\n",
              "</table>\n",
              "</div><br><label><b>dtype:</b> float64</label>"
            ]
          },
          "metadata": {},
          "execution_count": 139
        }
      ]
    },
    {
      "cell_type": "code",
      "source": [
        "np.cumsum(s).plot(kind='bar')"
      ],
      "metadata": {
        "colab": {
          "base_uri": "https://localhost:8080/",
          "height": 443
        },
        "id": "AdSxEQGXhucF",
        "outputId": "c23b6cfe-e7b7-4aea-8d6e-4c6849a508cf"
      },
      "execution_count": 140,
      "outputs": [
        {
          "output_type": "execute_result",
          "data": {
            "text/plain": [
              "<Axes: >"
            ]
          },
          "metadata": {},
          "execution_count": 140
        },
        {
          "output_type": "display_data",
          "data": {
            "text/plain": [
              "<Figure size 640x480 with 1 Axes>"
            ],
            "image/png": "[encoded data removed]"
          },
          "metadata": {}
        }
      ]
    },
    {
      "cell_type": "markdown",
      "source": [
        "# Parametric Density Estimation"
      ],
      "metadata": {
        "id": "2xxC3IAqFaik"
      }
    },
    {
      "cell_type": "code",
      "source": [
        "from numpy.random import normal\n",
        "\n",
        "sample=normal(loc=50,scale=5,size=1000)\n",
        "sample=sample+110\n",
        "sample"
      ],
      "metadata": {
        "colab": {
          "base_uri": "https://localhost:8080/"
        },
        "id": "I2MW2gTTFiSJ",
        "outputId": "a4e3861a-d102-4a69-b9a2-4992a6081e16"
      },
      "execution_count": 141,
      "outputs": [
        {
          "output_type": "execute_result",
          "data": {
            "text/plain": [
              "array([154.00506448, 156.23216212, 152.00873271, 158.41769684,\n",
              "       164.96313645, 156.60763897, 152.61382768, 154.26175129,\n",
              "       161.77118881, 155.62690565, 156.15864813, 162.32412759,\n",
              "       152.91725237, 164.27811348, 164.41811704, 164.08005355,\n",
              "       163.36418666, 159.80590596, 166.8344967 , 161.86026706,\n",
              "       157.67409651, 160.63854721, 165.48999634, 162.2011973 ,\n",
              "       157.63806676, 153.41186509, 153.99046975, 165.98682907,\n",
              "       156.32919082, 155.47280508, 159.79701404, 167.68501305,\n",
              "       168.2897758 , 160.08362304, 161.98252446, 163.22567067,\n",
              "       172.86208032, 159.92935907, 158.51798386, 161.9525427 ,\n",
              "       157.07682213, 163.99020379, 155.91070915, 168.79861295,\n",
              "       164.07109096, 155.46921795, 163.7794443 , 168.58985699,\n",
              "       167.49889139, 165.7330211 , 160.55833432, 162.96171191,\n",
              "       159.84319032, 158.78909739, 168.06801277, 161.76017725,\n",
              "       173.98626369, 158.41284198, 159.3838292 , 149.90570413,\n",
              "       161.0186175 , 171.36620164, 165.75542947, 163.86188671,\n",
              "       164.38721465, 157.17350137, 149.75450633, 153.63964553,\n",
              "       160.8466129 , 149.61465352, 156.0283813 , 165.09381751,\n",
              "       156.08680396, 161.20851072, 153.48750636, 168.37432025,\n",
              "       155.17754672, 159.59895101, 147.6015212 , 158.55071312,\n",
              "       162.79789641, 160.77121252, 160.6947672 , 157.13407517,\n",
              "       161.36665718, 150.80161742, 164.91205683, 161.94886531,\n",
              "       160.31377236, 162.88142755, 161.0089464 , 158.86680397,\n",
              "       157.13350979, 160.62361243, 164.06362143, 156.86147649,\n",
              "       160.44395316, 155.14951872, 155.28733871, 155.02891833,\n",
              "       166.12188718, 162.35292856, 154.83723507, 162.80217676,\n",
              "       160.83042875, 161.48209185, 158.34318961, 167.40768475,\n",
              "       163.45132305, 163.95327724, 155.31762517, 158.91540214,\n",
              "       158.43840114, 166.31097225, 153.15953956, 163.99168973,\n",
              "       159.15805346, 157.8367119 , 164.34653688, 157.93977803,\n",
              "       155.96828406, 157.06445069, 161.54781287, 163.02941032,\n",
              "       162.03709612, 151.05266594, 156.99881415, 166.07401714,\n",
              "       166.02863229, 164.18534122, 167.03411068, 159.84527384,\n",
              "       151.66932472, 166.25945996, 163.26908952, 150.51314447,\n",
              "       154.20279566, 161.41371683, 157.61216871, 163.35403118,\n",
              "       156.93900486, 174.28692467, 161.1978946 , 155.65673386,\n",
              "       149.06881024, 161.31835136, 163.18149286, 171.57441854,\n",
              "       162.63928784, 155.29718467, 160.31000259, 157.01281436,\n",
              "       161.09780938, 163.86356852, 156.00277044, 164.78678431,\n",
              "       166.10881196, 160.13746504, 163.81030556, 164.16255819,\n",
              "       159.68937408, 162.97607083, 162.02763223, 154.76224726,\n",
              "       162.92127769, 162.92264071, 173.80927458, 160.69845616,\n",
              "       163.02105728, 155.21201786, 170.15822871, 163.84826059,\n",
              "       157.33358012, 160.30500342, 171.36690766, 168.76747068,\n",
              "       165.46976893, 164.50859757, 152.35355124, 169.53140413,\n",
              "       163.1989504 , 158.09558416, 156.5778381 , 166.35188972,\n",
              "       153.81170564, 156.14606088, 161.90044979, 158.15258886,\n",
              "       161.54483099, 159.70503913, 152.05532243, 150.46080659,\n",
              "       159.13579779, 156.10599508, 159.95462065, 169.08533513,\n",
              "       166.24883218, 159.12186501, 161.97240346, 159.47436513,\n",
              "       156.74660833, 164.41194059, 156.06563164, 160.38658772,\n",
              "       159.97554682, 160.91487895, 165.59498302, 151.52441506,\n",
              "       156.07729195, 161.56179111, 150.7480586 , 164.78643192,\n",
              "       152.81796893, 158.95305702, 159.98078471, 160.70129857,\n",
              "       164.36863252, 153.62599506, 161.24482433, 161.79164952,\n",
              "       154.57818188, 149.35200926, 165.31735202, 159.41714586,\n",
              "       165.35002903, 162.0551147 , 155.39094189, 165.4385711 ,\n",
              "       157.44526962, 153.0961007 , 162.5045586 , 163.90122102,\n",
              "       160.27838454, 166.47914623, 161.31835521, 169.07606996,\n",
              "       156.14752623, 155.28468519, 161.5112863 , 170.44391887,\n",
              "       152.89336865, 169.50840491, 160.02216983, 157.31016104,\n",
              "       161.09967285, 166.51374898, 162.91676157, 157.49157606,\n",
              "       163.55219705, 169.77599623, 165.56217894, 161.07578638,\n",
              "       165.71386254, 157.49538511, 162.40275135, 157.17727654,\n",
              "       163.20739131, 160.69786377, 157.74968615, 159.02271129,\n",
              "       151.33496917, 156.1282585 , 157.8175837 , 159.14207896,\n",
              "       157.32869005, 158.77152021, 163.84979784, 157.36516715,\n",
              "       160.91062008, 164.57882328, 157.10008565, 160.55076576,\n",
              "       154.98309878, 162.15124958, 160.6613148 , 167.34025237,\n",
              "       149.44609112, 157.37452651, 176.90542278, 163.673853  ,\n",
              "       160.81556237, 160.2245101 , 157.04075058, 159.39680514,\n",
              "       155.80280581, 158.66905341, 157.00952141, 147.43815879,\n",
              "       158.74098717, 155.21210691, 155.34328258, 159.69998899,\n",
              "       156.82072034, 154.58790842, 163.38629695, 159.52164665,\n",
              "       159.7014713 , 150.29722194, 150.40281208, 160.470236  ,\n",
              "       153.55592548, 155.65625507, 168.64981146, 163.15621445,\n",
              "       157.94645156, 160.38316354, 158.75033947, 169.44966586,\n",
              "       159.31025253, 158.32251957, 157.74973341, 161.02678174,\n",
              "       161.79225563, 158.53821349, 149.2956729 , 159.03438053,\n",
              "       162.44559064, 170.7419738 , 162.00452251, 152.28704925,\n",
              "       163.57778188, 160.57696663, 156.27244728, 152.64104364,\n",
              "       151.29194388, 157.83695984, 162.85165239, 157.75627174,\n",
              "       165.82159519, 158.01605952, 156.90698099, 159.78801414,\n",
              "       158.511315  , 155.25174451, 165.24061207, 165.34406264,\n",
              "       155.68787308, 156.11306121, 156.70530753, 162.40662301,\n",
              "       165.59504556, 162.61499869, 162.26265525, 156.45067176,\n",
              "       160.08471577, 154.10132182, 151.06540087, 155.43518807,\n",
              "       166.51205295, 154.72063773, 155.61306868, 156.07432912,\n",
              "       162.26649705, 158.06490746, 166.40647146, 157.08571351,\n",
              "       157.90683102, 160.42194091, 154.10773532, 156.20842599,\n",
              "       154.27813322, 162.39701047, 158.12162514, 152.38217488,\n",
              "       158.05435853, 167.25512493, 151.74171045, 164.07528094,\n",
              "       156.10442848, 154.55436526, 160.64455327, 155.98956821,\n",
              "       162.49565782, 155.83738228, 156.90208331, 146.60495021,\n",
              "       166.11069921, 158.55036451, 158.29885976, 162.99913603,\n",
              "       156.77333524, 160.09655268, 163.48125861, 165.55302687,\n",
              "       153.14285167, 161.31230179, 158.13593405, 152.3095656 ,\n",
              "       164.17201962, 154.73976308, 164.30232584, 159.56296128,\n",
              "       148.94897548, 163.92448098, 150.96466898, 153.98534158,\n",
              "       164.09907916, 153.71552348, 164.72116866, 161.2094645 ,\n",
              "       161.71287002, 156.3103968 , 165.69557838, 157.30251843,\n",
              "       156.61612453, 170.9526133 , 162.46360158, 156.34400819,\n",
              "       162.3025412 , 161.19426612, 159.82391534, 163.03598551,\n",
              "       162.45131637, 158.86016149, 155.68475936, 153.02019931,\n",
              "       161.46111457, 164.25391454, 161.86630315, 152.01821945,\n",
              "       163.24388848, 164.5140248 , 155.50374472, 166.93485971,\n",
              "       156.88644833, 152.56623053, 160.00183429, 154.45947447,\n",
              "       163.82503427, 159.04543145, 169.12273793, 155.21196587,\n",
              "       157.61206683, 160.60156723, 155.03989307, 154.13931135,\n",
              "       156.496986  , 162.53649222, 171.36510946, 162.12118223,\n",
              "       158.55500593, 152.2728726 , 161.03736271, 155.46396587,\n",
              "       147.20440498, 169.52898604, 163.80498374, 155.81883092,\n",
              "       168.11539924, 157.53243304, 158.05244559, 152.37422181,\n",
              "       169.22132482, 154.102661  , 167.20394249, 165.2634166 ,\n",
              "       161.29473005, 161.85250551, 156.21838578, 163.31942049,\n",
              "       155.41034762, 158.0767838 , 149.90975423, 158.36898483,\n",
              "       162.86038198, 160.58381895, 159.86052339, 156.31732637,\n",
              "       158.88033063, 161.42806439, 153.60046045, 154.28448053,\n",
              "       158.88902459, 155.11316481, 156.51921938, 150.8627921 ,\n",
              "       153.5346873 , 157.63860118, 170.02484865, 162.87748108,\n",
              "       152.3826598 , 162.83467519, 159.36816278, 152.4756654 ,\n",
              "       159.81487356, 160.67020621, 156.42769793, 164.52739275,\n",
              "       156.4089797 , 159.04939643, 160.21840088, 167.62332909,\n",
              "       156.62966245, 151.70409133, 160.24103946, 156.04067983,\n",
              "       169.64535984, 157.95133404, 160.28806821, 156.4837089 ,\n",
              "       159.21048843, 155.79987003, 148.91341918, 160.38715853,\n",
              "       153.49110104, 159.79406284, 161.51724156, 153.10634385,\n",
              "       162.7655886 , 167.6744059 , 154.82741295, 153.47652858,\n",
              "       158.02168776, 158.80989942, 159.7957346 , 158.53663079,\n",
              "       166.53346045, 165.26453778, 164.8271734 , 164.09163247,\n",
              "       161.57282418, 173.29438872, 157.43526578, 161.50666828,\n",
              "       164.25141902, 170.10157026, 165.70738388, 167.78430494,\n",
              "       153.80481023, 166.07774031, 158.62887868, 164.60871197,\n",
              "       164.9965153 , 164.52347126, 169.40215424, 158.44967633,\n",
              "       162.35739668, 161.91095904, 157.75831852, 160.19618646,\n",
              "       167.6275161 , 152.35726327, 163.76915479, 166.58964946,\n",
              "       167.98838276, 153.03240106, 157.3888839 , 158.73798122,\n",
              "       149.07072565, 166.52657599, 168.18702683, 161.08868047,\n",
              "       163.73551549, 161.02075901, 154.9485192 , 154.69305459,\n",
              "       157.10097676, 155.30472953, 150.67786784, 167.70025315,\n",
              "       157.03650478, 166.65524833, 164.86937609, 160.54992456,\n",
              "       166.9031951 , 170.94177428, 164.86110258, 155.41249686,\n",
              "       163.52472948, 158.74388737, 160.19615425, 164.90339408,\n",
              "       154.56692843, 156.80967622, 158.70525014, 163.86112208,\n",
              "       152.72824479, 154.13704158, 169.42885715, 165.55045055,\n",
              "       158.09280198, 165.70933725, 164.04082712, 159.30411928,\n",
              "       157.06901259, 157.17118115, 167.93931696, 155.08889009,\n",
              "       159.44439195, 158.39191093, 161.63790876, 158.1708722 ,\n",
              "       160.71135591, 158.70060118, 152.92565952, 156.66089575,\n",
              "       156.85729631, 161.22127995, 166.21502165, 162.03515739,\n",
              "       164.46286527, 157.34404857, 154.8988026 , 160.13513009,\n",
              "       169.00435128, 159.11360753, 152.51578121, 157.70783042,\n",
              "       157.3005191 , 151.02300457, 150.83418787, 164.86608338,\n",
              "       155.12298976, 160.80348542, 162.5901672 , 164.35804067,\n",
              "       154.96344425, 149.80166519, 154.69052557, 155.15373808,\n",
              "       150.48579878, 153.16002683, 167.72559565, 170.05894866,\n",
              "       160.76035379, 164.24305554, 160.22873251, 165.75767362,\n",
              "       165.30743567, 151.53857994, 157.90203788, 158.84258226,\n",
              "       155.49664901, 155.42287345, 160.53250019, 162.59988056,\n",
              "       158.24448555, 158.76597245, 163.12042079, 154.44750092,\n",
              "       157.96258665, 162.81248182, 163.49452762, 163.37413929,\n",
              "       156.06986058, 155.66271955, 158.16870863, 156.00579733,\n",
              "       157.08375036, 158.57279072, 156.73868708, 159.32129989,\n",
              "       166.07589228, 160.38139457, 168.2979456 , 153.4375335 ,\n",
              "       166.81944993, 163.02667656, 163.00708537, 162.35907511,\n",
              "       166.87260282, 160.59887875, 171.56233334, 161.96148006,\n",
              "       156.66668492, 163.17478374, 155.54320268, 161.19134375,\n",
              "       160.27598544, 160.5623664 , 155.30132978, 158.46128428,\n",
              "       164.50364224, 152.44503981, 153.85498693, 157.95917732,\n",
              "       158.09770301, 159.79533553, 156.46773759, 156.85285319,\n",
              "       160.13964742, 165.56816145, 163.74624646, 166.3131387 ,\n",
              "       157.71415625, 156.18868022, 158.36174869, 157.06533485,\n",
              "       165.97076242, 163.87461762, 160.68029949, 153.22544981,\n",
              "       163.38561654, 152.60281151, 161.69068646, 161.72766109,\n",
              "       163.54911478, 161.6265531 , 161.70093834, 164.49163731,\n",
              "       160.0918496 , 157.24866189, 159.57082584, 156.06104632,\n",
              "       159.56272737, 156.52458103, 156.20000165, 159.71930943,\n",
              "       151.72206709, 163.884517  , 148.22407351, 155.43316873,\n",
              "       154.62268136, 163.45386188, 158.73552684, 147.64834208,\n",
              "       152.64912688, 164.13493461, 152.32530847, 159.59920279,\n",
              "       160.93441849, 151.7033167 , 160.85372519, 157.21854229,\n",
              "       151.34197825, 155.53853341, 163.89334921, 160.60194571,\n",
              "       157.94162529, 176.67131028, 150.60162472, 163.62117326,\n",
              "       163.33743383, 154.57033733, 159.26986957, 156.06378999,\n",
              "       159.89062808, 150.95353658, 152.43576762, 161.71699649,\n",
              "       159.09248824, 157.44066706, 163.19257728, 156.20525649,\n",
              "       158.58572185, 155.36950413, 154.97499511, 154.61448539,\n",
              "       159.65586521, 154.54986069, 162.08746968, 155.15068384,\n",
              "       161.24122881, 164.5589452 , 154.59140407, 159.74366382,\n",
              "       159.18884949, 153.4912972 , 160.70888586, 166.53695437,\n",
              "       165.83027277, 163.06811624, 163.98613048, 158.90157666,\n",
              "       161.57433387, 156.18546054, 162.07680132, 165.59542364,\n",
              "       165.01493998, 159.71240693, 149.84773873, 160.82531664,\n",
              "       159.51462396, 159.65170148, 158.22954564, 148.48488533,\n",
              "       161.95330382, 164.62657383, 154.91915719, 157.44721473,\n",
              "       167.59259127, 158.84794337, 166.67481992, 164.57456992,\n",
              "       168.05524666, 155.64218291, 152.3906538 , 152.81538471,\n",
              "       158.48663012, 156.21001055, 156.41982465, 154.86982796,\n",
              "       165.2106749 , 158.54544537, 165.180766  , 149.741378  ,\n",
              "       156.88229423, 159.20007904, 154.95554827, 158.50949842,\n",
              "       157.20183949, 168.91837379, 166.70637553, 161.18313511,\n",
              "       162.9120592 , 158.85560306, 154.61329772, 162.72783087,\n",
              "       160.67052658, 158.20443209, 164.89056714, 155.95378428,\n",
              "       158.79962521, 165.41489282, 147.92843005, 171.33463841,\n",
              "       161.42219704, 170.59175233, 153.76498959, 156.48420934,\n",
              "       159.60648424, 154.90107512, 164.5193478 , 154.68392804,\n",
              "       153.84866322, 158.40811119, 162.14629229, 154.12529233,\n",
              "       155.70856394, 168.23234603, 160.88498706, 167.06682848,\n",
              "       163.62419592, 161.67957933, 163.65246761, 161.10300917,\n",
              "       162.82750798, 161.40480155, 154.95352174, 157.87105275,\n",
              "       162.73366716, 154.70974876, 169.69120073, 152.88214316,\n",
              "       154.81673529, 163.24203776, 159.47375664, 163.92391441,\n",
              "       173.97113625, 157.947723  , 169.02957355, 164.87993284,\n",
              "       159.41926625, 166.39908671, 155.03470586, 161.36234717,\n",
              "       157.82953788, 162.34466004, 163.11443999, 155.67939671,\n",
              "       153.0496205 , 153.43200567, 156.0551475 , 152.31193167,\n",
              "       173.83322912, 164.37365398, 150.57472414, 160.55324834,\n",
              "       164.64192777, 156.44490461, 163.58831012, 159.95736974,\n",
              "       158.83115888, 160.41453046, 155.11538581, 160.24496641,\n",
              "       157.92698391, 163.29886816, 158.11616343, 160.06303094,\n",
              "       159.85851508, 157.93658914, 157.83838291, 154.16070203,\n",
              "       154.54425796, 158.54331529, 165.97008965, 155.37526055,\n",
              "       157.14860794, 151.78239025, 166.77550397, 166.59204322,\n",
              "       160.16887335, 159.01794893, 163.59871113, 158.49359746,\n",
              "       162.0354282 , 154.97454901, 163.6348504 , 152.1248374 ,\n",
              "       159.76116601, 158.61584546, 169.98203977, 159.3407589 ,\n",
              "       159.29720761, 155.55565632, 163.5990298 , 162.65179373,\n",
              "       154.81659904, 160.64228676, 152.50212994, 155.66268002,\n",
              "       151.16831182, 158.29436835, 157.72071098, 163.4463886 ,\n",
              "       152.07544725, 152.68254209, 155.22299331, 162.21091836,\n",
              "       156.19019104, 148.21561721, 154.54548667, 156.34699984,\n",
              "       162.46411709, 166.0734423 , 157.8588543 , 160.2866727 ,\n",
              "       156.8274882 , 159.2544962 , 166.27027968, 162.3688347 ,\n",
              "       155.56832434, 159.38102583, 164.60882483, 161.98029048,\n",
              "       163.73227776, 164.93395772, 154.86364408, 157.65633753,\n",
              "       162.07231005, 170.68072549, 157.89036519, 156.72829285,\n",
              "       161.06892427, 163.25977256, 152.08635893, 146.73043931,\n",
              "       162.53201042, 163.15433174, 153.27868213, 157.77610286,\n",
              "       156.82212911, 164.16113652, 154.64817753, 153.24668522,\n",
              "       162.27014429, 161.37523704, 149.64309025, 155.97868134,\n",
              "       148.24108151, 162.0947847 , 153.34112921, 163.4764704 ,\n",
              "       156.47005288, 164.48328229, 150.07286553, 159.13777589,\n",
              "       158.21793078, 152.10207568, 163.36303681, 159.00565589,\n",
              "       161.99494185, 169.61031768, 159.22370647, 164.34688867,\n",
              "       158.10969407, 156.42975167, 149.24619301, 169.48865906,\n",
              "       158.71692121, 162.69610826, 159.23146952, 162.97211421,\n",
              "       157.33834482, 157.9968957 , 146.51905117, 158.92632357,\n",
              "       157.58910909, 157.97159908, 155.11151361, 157.89277993,\n",
              "       160.07033773, 160.24004636, 156.97606195, 158.9308032 ,\n",
              "       162.73883945, 156.01978088, 162.28385621, 159.39513486])"
            ]
          },
          "metadata": {},
          "execution_count": 141
        }
      ]
    },
    {
      "cell_type": "code",
      "source": [
        "plt.hist(sample,bins=20) # look like normal distribution"
      ],
      "metadata": {
        "colab": {
          "base_uri": "https://localhost:8080/",
          "height": 591
        },
        "id": "Hg7mKgLSF5D8",
        "outputId": "ab0ad68b-7cd3-46e2-bdb8-cda0dee270c0"
      },
      "execution_count": 142,
      "outputs": [
        {
          "output_type": "execute_result",
          "data": {
            "text/plain": [
              "(array([  8.,  12.,  26.,  36.,  48.,  89., 106., 110., 109., 106., 100.,\n",
              "         96.,  58.,  38.,  21.,  20.,   8.,   4.,   3.,   2.]),\n",
              " array([146.51905117, 148.03836975, 149.55768833, 151.07700691,\n",
              "        152.59632549, 154.11564407, 155.63496265, 157.15428123,\n",
              "        158.67359981, 160.19291839, 161.71223697, 163.23155555,\n",
              "        164.75087413, 166.27019271, 167.78951129, 169.30882987,\n",
              "        170.82814845, 172.34746704, 173.86678562, 175.3861042 ,\n",
              "        176.90542278]),\n",
              " <BarContainer object of 20 artists>)"
            ]
          },
          "metadata": {},
          "execution_count": 142
        },
        {
          "output_type": "display_data",
          "data": {
            "text/plain": [
              "<Figure size 640x480 with 1 Axes>"
            ],
            "image/png": "[encoded data removed]"
          },
          "metadata": {}
        }
      ]
    },
    {
      "cell_type": "code",
      "source": [
        "# calculate mean and std\n",
        "\n",
        "sample_mean=sample.mean()\n",
        "sample_std=sample.std()"
      ],
      "metadata": {
        "id": "SERxfFPDGQmU"
      },
      "execution_count": 143,
      "outputs": []
    },
    {
      "cell_type": "code",
      "source": [
        "# fit the distribution with above parameters\n",
        "\n",
        "from scipy.stats import norm\n",
        "dist=norm(sample_mean,sample_std) # it create normal dist with these hyperparameters\n"
      ],
      "metadata": {
        "id": "STWH512PGm6D"
      },
      "execution_count": 144,
      "outputs": []
    },
    {
      "cell_type": "code",
      "source": [
        "# generate 100 data points between the min and max\n",
        "\n",
        "values=np.linspace(sample.min(),sample.max(),100)"
      ],
      "metadata": {
        "id": "wICZFGdMHJTV"
      },
      "execution_count": 145,
      "outputs": []
    },
    {
      "cell_type": "code",
      "source": [
        "probabilities_density =[dist.pdf(value) for value in values]"
      ],
      "metadata": {
        "id": "XLhXJdQYHqH2"
      },
      "execution_count": 146,
      "outputs": []
    },
    {
      "cell_type": "code",
      "source": [
        "# plot hist and pdf\n",
        "plt.hist(sample,bins=20,density=True)\n",
        "plt.plot(values,probabilities_density,'red')"
      ],
      "metadata": {
        "colab": {
          "base_uri": "https://localhost:8080/",
          "height": 448
        },
        "id": "echB8mppbGsE",
        "outputId": "138d8048-9131-47c4-bf1c-b25565629edd"
      },
      "execution_count": 147,
      "outputs": [
        {
          "output_type": "execute_result",
          "data": {
            "text/plain": [
              "[<matplotlib.lines.Line2D at 0x7c58dcae6810>]"
            ]
          },
          "metadata": {},
          "execution_count": 147
        },
        {
          "output_type": "display_data",
          "data": {
            "text/plain": [
              "<Figure size 640x480 with 1 Axes>"
            ],
            "image/png": "[encoded data removed]"
          },
          "metadata": {}
        }
      ]
    },
    {
      "cell_type": "code",
      "source": [
        "import seaborn as sns\n",
        "sns.distplot(sample)"
      ],
      "metadata": {
        "colab": {
          "base_uri": "https://localhost:8080/",
          "height": 644
        },
        "id": "kZRBcTfIcYQ2",
        "outputId": "53e415d1-01a7-47c0-9ce3-0dd6a490c613"
      },
      "execution_count": 148,
      "outputs": [
        {
          "output_type": "stream",
          "name": "stderr",
          "text": [
            "/tmp/ipython-input-1482356190.py:2: UserWarning: \n",
            "\n",
            "`distplot` is a deprecated function and will be removed in seaborn v0.14.0.\n",
            "\n",
            "Please adapt your code to use either `displot` (a figure-level function with\n",
            "similar flexibility) or `histplot` (an axes-level function for histograms).\n",
            "\n",
            "For a guide to updating your code to use the new functions, please see\n",
            "https://gist.github.com/mwaskom/de44147ed2974457ad6372750bbe5751\n",
            "\n",
            "  sns.distplot(sample)\n"
          ]
        },
        {
          "output_type": "execute_result",
          "data": {
            "text/plain": [
              "<Axes: ylabel='Density'>"
            ]
          },
          "metadata": {},
          "execution_count": 148
        },
        {
          "output_type": "display_data",
          "data": {
            "text/plain": [
              "<Figure size 640x480 with 1 Axes>"
            ],
            "image/png": "[encoded data removed]"
          },
          "metadata": {}
        }
      ]
    },
    {
      "cell_type": "markdown",
      "source": [
        "# non parametric dist function"
      ],
      "metadata": {
        "id": "x5jGAXCBdzQe"
      }
    },
    {
      "cell_type": "markdown",
      "source": [
        "# KDE"
      ],
      "metadata": {
        "id": "ZEyYtzeAd4hE"
      }
    },
    {
      "cell_type": "code",
      "source": [
        "# generate points\n",
        "sample1=normal(loc=20,scale=5,size=300)\n",
        "sample2=normal(loc=40,scale=5,size=700)\n",
        "sample=np.hstack((sample1,sample2))"
      ],
      "metadata": {
        "id": "x0fZJAACd3zw"
      },
      "execution_count": 149,
      "outputs": []
    },
    {
      "cell_type": "code",
      "source": [
        "sample"
      ],
      "metadata": {
        "colab": {
          "base_uri": "https://localhost:8080/"
        },
        "id": "Awtj9z9SeV7l",
        "outputId": "842d106f-f44e-41aa-9a77-bfed8ffb1ef8"
      },
      "execution_count": 150,
      "outputs": [
        {
          "output_type": "execute_result",
          "data": {
            "text/plain": [
              "array([ 5.43128407, 14.42467415, 20.43080514, 20.85734177, 22.04103838,\n",
              "       17.13682129, 20.65743243, 11.1431539 , 20.36858768, 23.56834605,\n",
              "       18.76271024, 27.31738944, 25.50890286, 16.77727086, 23.99901573,\n",
              "       24.799526  , 21.06806815, 22.50044384, 22.07266936, 17.27635955,\n",
              "       22.92586074, 24.96576554, 16.68090105, 19.9857014 , 16.20348764,\n",
              "        5.51746219,  9.35641117, 21.70497316, 19.93308827, 15.50590157,\n",
              "       21.88812597, 26.8610754 , 27.81279798, 17.10813918, 20.20434733,\n",
              "       12.9124868 , 24.07105021, 24.29744008, 20.18477107, 29.99169827,\n",
              "       24.90658645, 13.58067462, 21.74423365, 18.749713  , 18.09901251,\n",
              "       20.22195105, 21.1625781 , 19.97881365, 20.4888595 , 20.56535703,\n",
              "       15.74429254, 20.56010948, 29.31878489, 15.52607555, 15.50636261,\n",
              "       15.5111007 , 22.58802798, 30.02057664, 18.85093304, 19.51203045,\n",
              "       11.54641805, 28.27815392, 23.81738348, 18.05967513, 19.20963772,\n",
              "       24.00065968,  8.43815245, 35.28001291, 22.60173439, 26.99725542,\n",
              "       18.93297802, 24.96780986, 21.86315031, 25.29106847, 13.62096529,\n",
              "       24.90077517, 25.80324526, 12.6225364 , 21.42514554, 31.75107207,\n",
              "       20.1146171 , 10.62726271, 14.82929734, 23.50043771, 25.23837258,\n",
              "       23.71502873, 29.3582144 , 24.03052456, 19.33443741, 18.88947253,\n",
              "       20.67048961, 16.62803904, 20.8770244 , 18.10853416, 13.73418565,\n",
              "       21.12939572, 10.61227522, 15.7509448 , 18.05638846, 26.42785496,\n",
              "       22.29935597, 13.01404797, 22.22939807, 13.95663286, 17.35529858,\n",
              "        9.0150954 , 25.35352141, 19.12865044, 13.83386197, 19.2517229 ,\n",
              "        5.82474387, 18.51567822, 17.19626566, 14.01565719, 24.71502735,\n",
              "       23.99743499, 14.78565394, 19.62574323, 22.43502661, 17.90706983,\n",
              "       14.67764871, 19.03740382, 17.72545239, 14.82672945, 23.80934133,\n",
              "       25.11003855, 25.08372505, 20.2010909 , 13.67067461, 16.3981302 ,\n",
              "       15.48915793, 22.122791  , 18.27835698, 24.61596157, 26.05561877,\n",
              "       22.99412506, 20.42515467, 27.30762695, 21.59034757, 21.52422154,\n",
              "       24.55480308, 22.72859016, 26.68858595, 23.56332124, 18.69526639,\n",
              "       21.58568369, 16.55008079, 22.50006283,  7.2221689 , 14.74794763,\n",
              "       13.47388399, 22.75296448, 20.70942728, 19.46217944, 16.74021698,\n",
              "       12.45809828, 18.47556333, 19.46495851, 13.34052664, 29.37340264,\n",
              "       19.80031914, 19.40771157, 19.48118868, 14.38607212, 22.07357004,\n",
              "       14.33318277, 25.87889388, 21.42873793, 11.73372083, 20.20048638,\n",
              "       10.80561622, 11.85312456, 17.64107947, 17.62609224, 22.0598891 ,\n",
              "       18.95618478, 19.37807797, 16.11568459, 21.33781098, 22.86109358,\n",
              "       21.66081767, 21.64809854, 20.47772851, 22.2533152 , 19.89515776,\n",
              "       12.1026654 , 24.44556825, 19.78249958, 14.25814384,  8.58193326,\n",
              "       16.57757775, 23.47430471, 28.90238852, 12.30214131, 15.77704921,\n",
              "       22.08258072, 15.0995734 , 24.80123806, 15.76069901, 20.04926814,\n",
              "       26.77270544, 19.3729144 , 22.44952785, 25.32784191, 26.58257159,\n",
              "       30.0962066 , 29.65082629, 10.75540637, 30.39618259, 16.87838622,\n",
              "       27.38171728, 22.54418752, 16.85432777, 19.5612746 , 25.32977602,\n",
              "       12.82092713, 16.93969423, 16.31054798, 16.2993809 , 26.28873614,\n",
              "       22.32543112, 14.18948631, 21.45037334, 22.72154191, 21.09756284,\n",
              "       21.21746464, 22.40204547, 14.86971195, 15.934193  , 26.23894643,\n",
              "       29.22697264, 23.69294694, 14.93042564, 13.54004696, 20.82468414,\n",
              "       14.87092801, 12.98459093, 24.38320861, 14.439577  , 16.21476657,\n",
              "       23.40893891, 15.62743427, 26.32214152, 13.20003544, 20.61030787,\n",
              "       22.93989615, 17.10541447, 25.2688646 , 19.89772161, 14.54316892,\n",
              "       12.92993386, 10.17864794, 25.22272648, 24.04588691, 19.61465911,\n",
              "       20.34163897, 12.47315523, 25.98634786, 21.10493049, 19.94774577,\n",
              "       25.13986152, 24.17013366, 21.82049989, 19.80987287, 16.09578364,\n",
              "       18.26100992, 23.11068674, 13.65838724, 22.40571877, 19.77932386,\n",
              "       25.6791082 , 23.22977795, 17.4852143 , 16.67722982, 29.94215813,\n",
              "       24.44335592, 14.24726237, 12.34442317, 23.27027182, 18.94204298,\n",
              "       19.2487951 , 26.27859836, 18.70416208, 19.52587297, 15.64204127,\n",
              "       15.00015257, 23.36954261,  5.81816036, 15.20377521, 24.29358692,\n",
              "       19.66909729, 16.99069732, 24.33057814, 22.11078004, 25.96220103,\n",
              "       16.88807568, 21.13171991, 19.81032728, 29.04029617, 15.00466621,\n",
              "       33.4694772 , 49.17902983, 42.51714672, 33.20119298, 46.44071484,\n",
              "       28.59571518, 40.68196092, 46.71302529, 38.45822599, 38.41339461,\n",
              "       36.11167732, 38.36604059, 41.30900974, 45.05509334, 41.7774927 ,\n",
              "       40.53054489, 34.55480408, 38.00179861, 32.85387392, 47.54333746,\n",
              "       47.58175256, 38.50711825, 45.08380338, 42.78529985, 33.64397206,\n",
              "       39.74045361, 40.19220143, 30.40813989, 36.84726936, 43.99640416,\n",
              "       38.90642329, 33.31553924, 37.62622297, 40.88906456, 42.99492891,\n",
              "       35.13410977, 40.34166221, 41.09720117, 40.89133079, 27.94292583,\n",
              "       43.7957922 , 47.02143214, 37.2020131 , 45.90951662, 43.23971354,\n",
              "       40.32585534, 38.07439324, 35.19530659, 28.25851398, 38.71170867,\n",
              "       40.7099287 , 33.11740318, 41.91961962, 40.94143453, 42.08557147,\n",
              "       35.31130215, 43.0764845 , 37.76905135, 37.50159447, 31.66222273,\n",
              "       45.32932908, 38.61927643, 41.31655684, 37.58011965, 42.24366728,\n",
              "       44.98465352, 50.51131335, 33.63129663, 44.57510592, 40.41308909,\n",
              "       38.44205011, 41.46548107, 34.36961772, 46.12390558, 45.40540659,\n",
              "       37.57483821, 45.91254658, 32.92425637, 42.82007302, 38.10469058,\n",
              "       36.21413102, 42.95186379, 44.67352263, 44.79322628, 30.9204313 ,\n",
              "       33.18238673, 39.17307084, 41.30693121, 42.91157281, 34.41019514,\n",
              "       42.86696596, 36.82406334, 47.09049149, 42.16681876, 44.61202954,\n",
              "       46.80820478, 41.06094103, 42.70138086, 48.87662448, 38.34189314,\n",
              "       45.86102246, 35.01492224, 28.533117  , 32.83495926, 42.91003338,\n",
              "       40.91654142, 45.43966123, 38.92984367, 29.19734288, 41.41957919,\n",
              "       35.08599563, 44.20354168, 39.99993923, 39.89360792, 43.99922682,\n",
              "       43.17509536, 38.67804648, 42.84640703, 45.21102475, 38.16451788,\n",
              "       38.85002181, 42.15680736, 44.63847947, 43.66855542, 39.42140165,\n",
              "       34.76176376, 45.97148352, 36.61854532, 38.02484239, 42.83288404,\n",
              "       42.43966225, 44.28109604, 46.27119112, 43.58406065, 40.13071146,\n",
              "       36.99800272, 34.58228385, 32.31931806, 43.89295958, 44.31265003,\n",
              "       36.22944262, 41.60439737, 45.18462802, 38.13919994, 39.11645198,\n",
              "       36.48772836, 43.20327847, 42.39149816, 40.23564759, 45.98321853,\n",
              "       42.09111447, 32.45711818, 25.86472045, 48.52373817, 43.65595164,\n",
              "       34.85269724, 44.44761119, 36.57856719, 43.36840963, 41.91717572,\n",
              "       43.84372091, 34.42687945, 40.42376376, 45.05247463, 43.29755713,\n",
              "       35.93039596, 38.688197  , 51.94393232, 36.90847502, 44.47451936,\n",
              "       43.84262357, 37.96126579, 42.99307031, 42.95169009, 33.74629289,\n",
              "       35.09955574, 46.5704191 , 37.91381901, 48.19482415, 40.22826654,\n",
              "       29.74632986, 40.92424299, 40.67128133, 40.59297753, 37.9491688 ,\n",
              "       40.49637663, 31.29954033, 47.28104779, 34.08193756, 29.86950115,\n",
              "       45.90310677, 38.2612739 , 39.42247379, 29.33648543, 39.86350767,\n",
              "       40.30479425, 41.14885177, 44.78099106, 39.41855806, 38.92247683,\n",
              "       41.67279963, 43.36098494, 37.54207006, 39.10825853, 45.06440235,\n",
              "       40.34076698, 35.20791417, 42.9727823 , 45.05824168, 34.83081436,\n",
              "       39.77075221, 44.89505364, 44.37461878, 43.6352615 , 31.70792609,\n",
              "       37.92676744, 39.32748583, 42.56956221, 40.50012977, 37.91213092,\n",
              "       38.19740208, 41.24576502, 48.63897066, 37.53510184, 37.65311576,\n",
              "       38.20839477, 50.40530961, 46.21024673, 38.92138381, 35.61185732,\n",
              "       45.87662774, 43.91345062, 42.81792549, 38.03964257, 51.16297337,\n",
              "       51.26428486, 32.94609596, 39.97534435, 32.93750985, 45.35804365,\n",
              "       31.38072219, 37.92820774, 41.20846336, 36.36092291, 35.92015449,\n",
              "       43.0817228 , 36.21839544, 35.50956836, 40.38973572, 35.49780369,\n",
              "       45.59122032, 50.86929323, 50.31772631, 52.51478131, 32.20752055,\n",
              "       42.08216798, 47.3595006 , 42.81553227, 29.84344357, 39.24634231,\n",
              "       37.08415409, 42.1114908 , 41.34153708, 44.77521374, 27.76044052,\n",
              "       41.44661741, 37.79097423, 36.05493057, 38.14410094, 42.84441484,\n",
              "       44.22773516, 39.51121481, 44.62528166, 36.30347874, 35.86867985,\n",
              "       40.84424529, 41.03714058, 32.99109681, 41.57687728, 35.03010961,\n",
              "       45.36303678, 31.75622194, 44.8328354 , 43.46332579, 46.00392835,\n",
              "       40.38225557, 47.00754312, 41.98508474, 42.70112252, 37.66175256,\n",
              "       42.67608649, 32.39277803, 42.45420249, 41.07068244, 37.03343221,\n",
              "       39.3649813 , 33.15434005, 35.83632772, 38.94937712, 42.88097914,\n",
              "       35.61092203, 35.18652411, 46.4936727 , 39.034686  , 41.397675  ,\n",
              "       47.84642016, 42.05879289, 53.90842607, 50.23449242, 36.02868239,\n",
              "       37.96736183, 36.96690005, 42.48288067, 38.89165246, 48.54851728,\n",
              "       52.2169264 , 34.62560556, 39.94221382, 40.95797044, 37.7983045 ,\n",
              "       33.79651317, 40.59573936, 44.15782256, 35.36704368, 46.25897892,\n",
              "       37.91355592, 36.69860752, 37.69683228, 35.65717953, 36.05149142,\n",
              "       38.66981998, 40.75861033, 38.8179789 , 36.76749089, 42.58201166,\n",
              "       39.65698675, 37.89083722, 41.38813583, 40.15504919, 41.7457348 ,\n",
              "       40.44518409, 38.59372584, 41.74528829, 36.46017555, 39.04593262,\n",
              "       50.32009399, 40.2061796 , 38.02613807, 34.90556208, 39.01749723,\n",
              "       39.87566233, 42.2495949 , 29.17814591, 32.36708756, 39.91203503,\n",
              "       33.99190641, 42.06354658, 36.51855808, 40.56226354, 35.37228707,\n",
              "       46.53237414, 43.27624305, 41.92350931, 44.35191952, 35.74832187,\n",
              "       37.00168931, 38.06233886, 30.84643031, 41.954577  , 46.37913401,\n",
              "       34.26290835, 37.31829695, 33.1679457 , 29.25199153, 39.02651284,\n",
              "       35.89334391, 31.26232545, 45.46272549, 46.24134798, 40.70646733,\n",
              "       45.91281174, 42.21966283, 45.41493934, 39.95613535, 42.6036768 ,\n",
              "       43.53302815, 32.32805776, 45.39850087, 34.72958331, 40.47829984,\n",
              "       35.0000381 , 38.97700526, 47.02868012, 34.90698134, 29.41597137,\n",
              "       50.74634399, 39.26703388, 44.96292882, 38.52801792, 40.51570114,\n",
              "       40.49899102, 40.41005309, 36.9290373 , 30.98843045, 43.63978484,\n",
              "       40.49283742, 40.67166934, 45.05953044, 34.22835505, 38.85254175,\n",
              "       45.61289623, 45.13022848, 46.86347091, 45.09211582, 45.68884633,\n",
              "       45.87307662, 44.84379233, 52.19097902, 34.77564066, 41.0352346 ,\n",
              "       25.89460832, 38.4325255 , 34.53216174, 45.27624433, 42.79723335,\n",
              "       43.08959881, 30.41825871, 41.7772214 , 37.29437325, 32.60185337,\n",
              "       48.84439497, 45.79946035, 45.02246633, 32.24552657, 42.47656387,\n",
              "       35.68425632, 43.49923969, 42.24254564, 39.00217939, 32.26562515,\n",
              "       39.17079706, 43.64548162, 38.19700039, 36.31157305, 34.84224532,\n",
              "       36.96665505, 46.32552129, 39.07984709, 54.03046494, 37.3270697 ,\n",
              "       36.2435416 , 28.38846626, 44.11862875, 37.35427987, 35.17786377,\n",
              "       43.46014057, 38.37623948, 41.8199685 , 47.29711251, 37.12557608,\n",
              "       36.21755396, 30.08961568, 38.15561863, 44.02141182, 49.95734392,\n",
              "       47.14566159, 31.25616937, 41.83087391, 45.119376  , 33.95515984,\n",
              "       47.34994791, 44.16215453, 40.59768511, 43.54378549, 45.30524773,\n",
              "       39.39339909, 39.7509965 , 34.17450026, 36.22880923, 47.57108127,\n",
              "       31.88151791, 41.33222199, 41.08563155, 43.71478177, 37.49441485,\n",
              "       40.40907201, 49.65870605, 30.94362706, 38.86333149, 38.20860512,\n",
              "       37.78391996, 46.24654816, 46.5998002 , 44.35886125, 41.54504233,\n",
              "       42.9674926 , 34.89553609, 42.46646157, 35.46709659, 37.3793909 ,\n",
              "       38.00359258, 43.91824135, 37.7162951 , 45.22223105, 27.79899707,\n",
              "       49.44406148, 42.55610466, 37.49371542, 39.69429441, 49.80680857,\n",
              "       44.7350191 , 33.51470846, 42.7402732 , 38.90247975, 42.55751049,\n",
              "       38.1654467 , 41.98758445, 36.60851485, 28.99787203, 42.63976622,\n",
              "       44.14150977, 42.92460626, 36.91138673, 41.35056775, 40.17631345,\n",
              "       43.62275057, 36.89080265, 43.20645294, 39.23522619, 42.33885677,\n",
              "       40.82495938, 38.65518595, 44.82761911, 41.56746061, 44.07756919,\n",
              "       31.52847663, 37.90070182, 39.09759849, 42.13189712, 43.29880596,\n",
              "       40.84694836, 43.72586098, 40.36772595, 39.95570362, 34.9458186 ,\n",
              "       46.82153081, 39.08407198, 39.25397251, 42.01278741, 41.5904638 ,\n",
              "       39.24316811, 40.18538654, 43.69210117, 33.38163042, 49.0250872 ,\n",
              "       33.57940632, 42.29686221, 39.60878614, 39.0459712 , 33.10124666,\n",
              "       38.02407766, 36.25352801, 38.03202451, 34.30125634, 36.55485327,\n",
              "       35.4210616 , 40.00136786, 43.6342562 , 40.46026264, 36.44374814,\n",
              "       41.49791213, 36.46873369, 39.62208632, 38.75953943, 34.42645806,\n",
              "       32.99882022, 46.87855706, 44.19103117, 36.89845715, 37.60865255,\n",
              "       41.53770897, 42.14304051, 33.28373356, 44.5505844 , 43.70813695,\n",
              "       37.63852654, 46.75364343, 37.92491075, 47.01983733, 38.41964645,\n",
              "       41.56875499, 35.55905704, 38.52020685, 47.78393156, 41.15349302,\n",
              "       34.35478393, 38.24278269, 40.03393597, 43.47645388, 46.04410135,\n",
              "       37.86498129, 38.74032511, 42.97929228, 37.44172325, 42.25072691,\n",
              "       36.76376852, 45.57862162, 30.64416433, 38.79395034, 40.48487614,\n",
              "       41.99593471, 37.3663914 , 47.22182409, 52.93010219, 39.60905324,\n",
              "       29.93764375, 39.30434815, 44.04370048, 34.67471009, 37.95244118,\n",
              "       45.45095275, 38.49451537, 41.65844335, 39.24465397, 43.29635042,\n",
              "       43.9670238 , 32.26799197, 44.04156777, 33.5393347 , 40.95375027,\n",
              "       32.5096759 , 26.36806454, 38.57602347, 32.85133984, 38.21488108,\n",
              "       39.86822658, 46.45268744, 42.97224031, 41.20864054, 32.69527319,\n",
              "       36.44951918, 36.50982084, 44.46182737, 44.37559985, 44.81585751,\n",
              "       33.97023837, 38.13658254, 46.49333174, 38.21730162, 42.23719721,\n",
              "       33.13659251, 40.28203437, 44.67680752, 42.3967367 , 44.13475911,\n",
              "       39.22193344, 36.98821156, 35.72966747, 37.81272375, 39.21303168,\n",
              "       42.81042496, 42.44940554, 42.0958261 , 40.98875472, 35.19333547,\n",
              "       42.48499334, 39.63619017, 40.11762887, 41.13834252, 39.14665937,\n",
              "       39.74194654, 37.45847595, 46.79876917, 40.32929043, 36.9345037 ,\n",
              "       35.65776611, 43.54160431, 36.41024844, 51.90059718, 49.85354118,\n",
              "       40.72034984, 35.95947749, 37.19749581, 44.11264402, 33.75557184,\n",
              "       37.53704152, 40.9546124 , 49.3358633 , 43.45474991, 39.26945996,\n",
              "       44.66435337, 44.29573336, 32.72184374, 35.70096478, 38.9142279 ,\n",
              "       40.616452  , 38.87029674, 39.16839833, 38.56919193, 35.80348057])"
            ]
          },
          "metadata": {},
          "execution_count": 150
        }
      ]
    },
    {
      "cell_type": "code",
      "source": [
        "plt.hist(sample,bins=20)"
      ],
      "metadata": {
        "colab": {
          "base_uri": "https://localhost:8080/",
          "height": 573
        },
        "id": "UZF-jqy-eYUN",
        "outputId": "7030fcce-5d37-4228-b8a1-9b334ef04ae3"
      },
      "execution_count": 151,
      "outputs": [
        {
          "output_type": "execute_result",
          "data": {
            "text/plain": [
              "(array([  5.,   5.,  14.,  36.,  39.,  50.,  57.,  44.,  34.,  25.,  27.,\n",
              "         56.,  89., 139., 118., 126.,  83.,  29.,  16.,   8.]),\n",
              " array([ 5.43128407,  7.86124311, 10.29120216, 12.7211612 , 15.15112025,\n",
              "        17.58107929, 20.01103833, 22.44099738, 24.87095642, 27.30091546,\n",
              "        29.73087451, 32.16083355, 34.59079259, 37.02075164, 39.45071068,\n",
              "        41.88066973, 44.31062877, 46.74058781, 49.17054686, 51.6005059 ,\n",
              "        54.03046494]),\n",
              " <BarContainer object of 20 artists>)"
            ]
          },
          "metadata": {},
          "execution_count": 151
        },
        {
          "output_type": "display_data",
          "data": {
            "text/plain": [
              "<Figure size 640x480 with 1 Axes>"
            ],
            "image/png": "[encoded data removed]"
          },
          "metadata": {}
        }
      ]
    },
    {
      "cell_type": "code",
      "source": [
        "from sklearn.neighbors import KernelDensity\n",
        "\n",
        "model=KernelDensity(kernel='gaussian',bandwidth=3)\n",
        "model.fit(sample.reshape(-1,1))"
      ],
      "metadata": {
        "colab": {
          "base_uri": "https://localhost:8080/",
          "height": 80
        },
        "id": "xZmlB6x6ecPO",
        "outputId": "9ecf6f66-39d9-4b1e-9df5-8508d2b1f2d7"
      },
      "execution_count": 152,
      "outputs": [
        {
          "output_type": "execute_result",
          "data": {
            "text/plain": [
              "KernelDensity(bandwidth=3)"
            ],
            "text/html": [
              "<style>#sk-container-id-3 {\n",
              "  /* Definition of color scheme common for light and dark mode */\n",
              "  --sklearn-color-text: #000;\n",
              "  --sklearn-color-text-muted: #666;\n",
              "  --sklearn-color-line: gray;\n",
              "  /* Definition of color scheme for unfitted estimators */\n",
              "  --sklearn-color-unfitted-level-0: #fff5e6;\n",
              "  --sklearn-color-unfitted-level-1: #f6e4d2;\n",
              "  --sklearn-color-unfitted-level-2: #ffe0b3;\n",
              "  --sklearn-color-unfitted-level-3: chocolate;\n",
              "  /* Definition of color scheme for fitted estimators */\n",
              "  --sklearn-color-fitted-level-0: #f0f8ff;\n",
              "  --sklearn-color-fitted-level-1: #d4ebff;\n",
              "  --sklearn-color-fitted-level-2: #b3dbfd;\n",
              "  --sklearn-color-fitted-level-3: cornflowerblue;\n",
              "\n",
              "  /* Specific color for light theme */\n",
              "  --sklearn-color-text-on-default-background: var(--sg-text-color, var(--theme-code-foreground, var(--jp-content-font-color1, black)));\n",
              "  --sklearn-color-background: var(--sg-background-color, var(--theme-background, var(--jp-layout-color0, white)));\n",
              "  --sklearn-color-border-box: var(--sg-text-color, var(--theme-code-foreground, var(--jp-content-font-color1, black)));\n",
              "  --sklearn-color-icon: #696969;\n",
              "\n",
              "  @media (prefers-color-scheme: dark) {\n",
              "    /* Redefinition of color scheme for dark theme */\n",
              "    --sklearn-color-text-on-default-background: var(--sg-text-color, var(--theme-code-foreground, var(--jp-content-font-color1, white)));\n",
              "    --sklearn-color-background: var(--sg-background-color, var(--theme-background, var(--jp-layout-color0, #111)));\n",
              "    --sklearn-color-border-box: var(--sg-text-color, var(--theme-code-foreground, var(--jp-content-font-color1, white)));\n",
              "    --sklearn-color-icon: #878787;\n",
              "  }\n",
              "}\n",
              "\n",
              "#sk-container-id-3 {\n",
              "  color: var(--sklearn-color-text);\n",
              "}\n",
              "\n",
              "#sk-container-id-3 pre {\n",
              "  padding: 0;\n",
              "}\n",
              "\n",
              "#sk-container-id-3 input.sk-hidden--visually {\n",
              "  border: 0;\n",
              "  clip: rect(1px 1px 1px 1px);\n",
              "  clip: rect(1px, 1px, 1px, 1px);\n",
              "  height: 1px;\n",
              "  margin: -1px;\n",
              "  overflow: hidden;\n",
              "  padding: 0;\n",
              "  position: absolute;\n",
              "  width: 1px;\n",
              "}\n",
              "\n",
              "#sk-container-id-3 div.sk-dashed-wrapped {\n",
              "  border: 1px dashed var(--sklearn-color-line);\n",
              "  margin: 0 0.4em 0.5em 0.4em;\n",
              "  box-sizing: border-box;\n",
              "  padding-bottom: 0.4em;\n",
              "  background-color: var(--sklearn-color-background);\n",
              "}\n",
              "\n",
              "#sk-container-id-3 div.sk-container {\n",
              "  /* jupyter's `normalize.less` sets `[hidden] { display: none; }`\n",
              "     but bootstrap.min.css set `[hidden] { display: none !important; }`\n",
              "     so we also need the `!important` here to be able to override the\n",
              "     default hidden behavior on the sphinx rendered scikit-learn.org.\n",
              "     See: https://github.com/scikit-learn/scikit-learn/issues/21755 */\n",
              "  display: inline-block !important;\n",
              "  position: relative;\n",
              "}\n",
              "\n",
              "#sk-container-id-3 div.sk-text-repr-fallback {\n",
              "  display: none;\n",
              "}\n",
              "\n",
              "div.sk-parallel-item,\n",
              "div.sk-serial,\n",
              "div.sk-item {\n",
              "  /* draw centered vertical line to link estimators */\n",
              "  background-image: linear-gradient(var(--sklearn-color-text-on-default-background), var(--sklearn-color-text-on-default-background));\n",
              "  background-size: 2px 100%;\n",
              "  background-repeat: no-repeat;\n",
              "  background-position: center center;\n",
              "}\n",
              "\n",
              "/* Parallel-specific style estimator block */\n",
              "\n",
              "#sk-container-id-3 div.sk-parallel-item::after {\n",
              "  content: \"\";\n",
              "  width: 100%;\n",
              "  border-bottom: 2px solid var(--sklearn-color-text-on-default-background);\n",
              "  flex-grow: 1;\n",
              "}\n",
              "\n",
              "#sk-container-id-3 div.sk-parallel {\n",
              "  display: flex;\n",
              "  align-items: stretch;\n",
              "  justify-content: center;\n",
              "  background-color: var(--sklearn-color-background);\n",
              "  position: relative;\n",
              "}\n",
              "\n",
              "#sk-container-id-3 div.sk-parallel-item {\n",
              "  display: flex;\n",
              "  flex-direction: column;\n",
              "}\n",
              "\n",
              "#sk-container-id-3 div.sk-parallel-item:first-child::after {\n",
              "  align-self: flex-end;\n",
              "  width: 50%;\n",
              "}\n",
              "\n",
              "#sk-container-id-3 div.sk-parallel-item:last-child::after {\n",
              "  align-self: flex-start;\n",
              "  width: 50%;\n",
              "}\n",
              "\n",
              "#sk-container-id-3 div.sk-parallel-item:only-child::after {\n",
              "  width: 0;\n",
              "}\n",
              "\n",
              "/* Serial-specific style estimator block */\n",
              "\n",
              "#sk-container-id-3 div.sk-serial {\n",
              "  display: flex;\n",
              "  flex-direction: column;\n",
              "  align-items: center;\n",
              "  background-color: var(--sklearn-color-background);\n",
              "  padding-right: 1em;\n",
              "  padding-left: 1em;\n",
              "}\n",
              "\n",
              "\n",
              "/* Toggleable style: style used for estimator/Pipeline/ColumnTransformer box that is\n",
              "clickable and can be expanded/collapsed.\n",
              "- Pipeline and ColumnTransformer use this feature and define the default style\n",
              "- Estimators will overwrite some part of the style using the `sk-estimator` class\n",
              "*/\n",
              "\n",
              "/* Pipeline and ColumnTransformer style (default) */\n",
              "\n",
              "#sk-container-id-3 div.sk-toggleable {\n",
              "  /* Default theme specific background. It is overwritten whether we have a\n",
              "  specific estimator or a Pipeline/ColumnTransformer */\n",
              "  background-color: var(--sklearn-color-background);\n",
              "}\n",
              "\n",
              "/* Toggleable label */\n",
              "#sk-container-id-3 label.sk-toggleable__label {\n",
              "  cursor: pointer;\n",
              "  display: flex;\n",
              "  width: 100%;\n",
              "  margin-bottom: 0;\n",
              "  padding: 0.5em;\n",
              "  box-sizing: border-box;\n",
              "  text-align: center;\n",
              "  align-items: start;\n",
              "  justify-content: space-between;\n",
              "  gap: 0.5em;\n",
              "}\n",
              "\n",
              "#sk-container-id-3 label.sk-toggleable__label .caption {\n",
              "  font-size: 0.6rem;\n",
              "  font-weight: lighter;\n",
              "  color: var(--sklearn-color-text-muted);\n",
              "}\n",
              "\n",
              "#sk-container-id-3 label.sk-toggleable__label-arrow:before {\n",
              "  /* Arrow on the left of the label */\n",
              "  content: \"▸\";\n",
              "  float: left;\n",
              "  margin-right: 0.25em;\n",
              "  color: var(--sklearn-color-icon);\n",
              "}\n",
              "\n",
              "#sk-container-id-3 label.sk-toggleable__label-arrow:hover:before {\n",
              "  color: var(--sklearn-color-text);\n",
              "}\n",
              "\n",
              "/* Toggleable content - dropdown */\n",
              "\n",
              "#sk-container-id-3 div.sk-toggleable__content {\n",
              "  max-height: 0;\n",
              "  max-width: 0;\n",
              "  overflow: hidden;\n",
              "  text-align: left;\n",
              "  /* unfitted */\n",
              "  background-color: var(--sklearn-color-unfitted-level-0);\n",
              "}\n",
              "\n",
              "#sk-container-id-3 div.sk-toggleable__content.fitted {\n",
              "  /* fitted */\n",
              "  background-color: var(--sklearn-color-fitted-level-0);\n",
              "}\n",
              "\n",
              "#sk-container-id-3 div.sk-toggleable__content pre {\n",
              "  margin: 0.2em;\n",
              "  border-radius: 0.25em;\n",
              "  color: var(--sklearn-color-text);\n",
              "  /* unfitted */\n",
              "  background-color: var(--sklearn-color-unfitted-level-0);\n",
              "}\n",
              "\n",
              "#sk-container-id-3 div.sk-toggleable__content.fitted pre {\n",
              "  /* unfitted */\n",
              "  background-color: var(--sklearn-color-fitted-level-0);\n",
              "}\n",
              "\n",
              "#sk-container-id-3 input.sk-toggleable__control:checked~div.sk-toggleable__content {\n",
              "  /* Expand drop-down */\n",
              "  max-height: 200px;\n",
              "  max-width: 100%;\n",
              "  overflow: auto;\n",
              "}\n",
              "\n",
              "#sk-container-id-3 input.sk-toggleable__control:checked~label.sk-toggleable__label-arrow:before {\n",
              "  content: \"▾\";\n",
              "}\n",
              "\n",
              "/* Pipeline/ColumnTransformer-specific style */\n",
              "\n",
              "#sk-container-id-3 div.sk-label input.sk-toggleable__control:checked~label.sk-toggleable__label {\n",
              "  color: var(--sklearn-color-text);\n",
              "  background-color: var(--sklearn-color-unfitted-level-2);\n",
              "}\n",
              "\n",
              "#sk-container-id-3 div.sk-label.fitted input.sk-toggleable__control:checked~label.sk-toggleable__label {\n",
              "  background-color: var(--sklearn-color-fitted-level-2);\n",
              "}\n",
              "\n",
              "/* Estimator-specific style */\n",
              "\n",
              "/* Colorize estimator box */\n",
              "#sk-container-id-3 div.sk-estimator input.sk-toggleable__control:checked~label.sk-toggleable__label {\n",
              "  /* unfitted */\n",
              "  background-color: var(--sklearn-color-unfitted-level-2);\n",
              "}\n",
              "\n",
              "#sk-container-id-3 div.sk-estimator.fitted input.sk-toggleable__control:checked~label.sk-toggleable__label {\n",
              "  /* fitted */\n",
              "  background-color: var(--sklearn-color-fitted-level-2);\n",
              "}\n",
              "\n",
              "#sk-container-id-3 div.sk-label label.sk-toggleable__label,\n",
              "#sk-container-id-3 div.sk-label label {\n",
              "  /* The background is the default theme color */\n",
              "  color: var(--sklearn-color-text-on-default-background);\n",
              "}\n",
              "\n",
              "/* On hover, darken the color of the background */\n",
              "#sk-container-id-3 div.sk-label:hover label.sk-toggleable__label {\n",
              "  color: var(--sklearn-color-text);\n",
              "  background-color: var(--sklearn-color-unfitted-level-2);\n",
              "}\n",
              "\n",
              "/* Label box, darken color on hover, fitted */\n",
              "#sk-container-id-3 div.sk-label.fitted:hover label.sk-toggleable__label.fitted {\n",
              "  color: var(--sklearn-color-text);\n",
              "  background-color: var(--sklearn-color-fitted-level-2);\n",
              "}\n",
              "\n",
              "/* Estimator label */\n",
              "\n",
              "#sk-container-id-3 div.sk-label label {\n",
              "  font-family: monospace;\n",
              "  font-weight: bold;\n",
              "  display: inline-block;\n",
              "  line-height: 1.2em;\n",
              "}\n",
              "\n",
              "#sk-container-id-3 div.sk-label-container {\n",
              "  text-align: center;\n",
              "}\n",
              "\n",
              "/* Estimator-specific */\n",
              "#sk-container-id-3 div.sk-estimator {\n",
              "  font-family: monospace;\n",
              "  border: 1px dotted var(--sklearn-color-border-box);\n",
              "  border-radius: 0.25em;\n",
              "  box-sizing: border-box;\n",
              "  margin-bottom: 0.5em;\n",
              "  /* unfitted */\n",
              "  background-color: var(--sklearn-color-unfitted-level-0);\n",
              "}\n",
              "\n",
              "#sk-container-id-3 div.sk-estimator.fitted {\n",
              "  /* fitted */\n",
              "  background-color: var(--sklearn-color-fitted-level-0);\n",
              "}\n",
              "\n",
              "/* on hover */\n",
              "#sk-container-id-3 div.sk-estimator:hover {\n",
              "  /* unfitted */\n",
              "  background-color: var(--sklearn-color-unfitted-level-2);\n",
              "}\n",
              "\n",
              "#sk-container-id-3 div.sk-estimator.fitted:hover {\n",
              "  /* fitted */\n",
              "  background-color: var(--sklearn-color-fitted-level-2);\n",
              "}\n",
              "\n",
              "/* Specification for estimator info (e.g. \"i\" and \"?\") */\n",
              "\n",
              "/* Common style for \"i\" and \"?\" */\n",
              "\n",
              ".sk-estimator-doc-link,\n",
              "a:link.sk-estimator-doc-link,\n",
              "a:visited.sk-estimator-doc-link {\n",
              "  float: right;\n",
              "  font-size: smaller;\n",
              "  line-height: 1em;\n",
              "  font-family: monospace;\n",
              "  background-color: var(--sklearn-color-background);\n",
              "  border-radius: 1em;\n",
              "  height: 1em;\n",
              "  width: 1em;\n",
              "  text-decoration: none !important;\n",
              "  margin-left: 0.5em;\n",
              "  text-align: center;\n",
              "  /* unfitted */\n",
              "  border: var(--sklearn-color-unfitted-level-1) 1pt solid;\n",
              "  color: var(--sklearn-color-unfitted-level-1);\n",
              "}\n",
              "\n",
              ".sk-estimator-doc-link.fitted,\n",
              "a:link.sk-estimator-doc-link.fitted,\n",
              "a:visited.sk-estimator-doc-link.fitted {\n",
              "  /* fitted */\n",
              "  border: var(--sklearn-color-fitted-level-1) 1pt solid;\n",
              "  color: var(--sklearn-color-fitted-level-1);\n",
              "}\n",
              "\n",
              "/* On hover */\n",
              "div.sk-estimator:hover .sk-estimator-doc-link:hover,\n",
              ".sk-estimator-doc-link:hover,\n",
              "div.sk-label-container:hover .sk-estimator-doc-link:hover,\n",
              ".sk-estimator-doc-link:hover {\n",
              "  /* unfitted */\n",
              "  background-color: var(--sklearn-color-unfitted-level-3);\n",
              "  color: var(--sklearn-color-background);\n",
              "  text-decoration: none;\n",
              "}\n",
              "\n",
              "div.sk-estimator.fitted:hover .sk-estimator-doc-link.fitted:hover,\n",
              ".sk-estimator-doc-link.fitted:hover,\n",
              "div.sk-label-container:hover .sk-estimator-doc-link.fitted:hover,\n",
              ".sk-estimator-doc-link.fitted:hover {\n",
              "  /* fitted */\n",
              "  background-color: var(--sklearn-color-fitted-level-3);\n",
              "  color: var(--sklearn-color-background);\n",
              "  text-decoration: none;\n",
              "}\n",
              "\n",
              "/* Span, style for the box shown on hovering the info icon */\n",
              ".sk-estimator-doc-link span {\n",
              "  display: none;\n",
              "  z-index: 9999;\n",
              "  position: relative;\n",
              "  font-weight: normal;\n",
              "  right: .2ex;\n",
              "  padding: .5ex;\n",
              "  margin: .5ex;\n",
              "  width: min-content;\n",
              "  min-width: 20ex;\n",
              "  max-width: 50ex;\n",
              "  color: var(--sklearn-color-text);\n",
              "  box-shadow: 2pt 2pt 4pt #999;\n",
              "  /* unfitted */\n",
              "  background: var(--sklearn-color-unfitted-level-0);\n",
              "  border: .5pt solid var(--sklearn-color-unfitted-level-3);\n",
              "}\n",
              "\n",
              ".sk-estimator-doc-link.fitted span {\n",
              "  /* fitted */\n",
              "  background: var(--sklearn-color-fitted-level-0);\n",
              "  border: var(--sklearn-color-fitted-level-3);\n",
              "}\n",
              "\n",
              ".sk-estimator-doc-link:hover span {\n",
              "  display: block;\n",
              "}\n",
              "\n",
              "/* \"?\"-specific style due to the `<a>` HTML tag */\n",
              "\n",
              "#sk-container-id-3 a.estimator_doc_link {\n",
              "  float: right;\n",
              "  font-size: 1rem;\n",
              "  line-height: 1em;\n",
              "  font-family: monospace;\n",
              "  background-color: var(--sklearn-color-background);\n",
              "  border-radius: 1rem;\n",
              "  height: 1rem;\n",
              "  width: 1rem;\n",
              "  text-decoration: none;\n",
              "  /* unfitted */\n",
              "  color: var(--sklearn-color-unfitted-level-1);\n",
              "  border: var(--sklearn-color-unfitted-level-1) 1pt solid;\n",
              "}\n",
              "\n",
              "#sk-container-id-3 a.estimator_doc_link.fitted {\n",
              "  /* fitted */\n",
              "  border: var(--sklearn-color-fitted-level-1) 1pt solid;\n",
              "  color: var(--sklearn-color-fitted-level-1);\n",
              "}\n",
              "\n",
              "/* On hover */\n",
              "#sk-container-id-3 a.estimator_doc_link:hover {\n",
              "  /* unfitted */\n",
              "  background-color: var(--sklearn-color-unfitted-level-3);\n",
              "  color: var(--sklearn-color-background);\n",
              "  text-decoration: none;\n",
              "}\n",
              "\n",
              "#sk-container-id-3 a.estimator_doc_link.fitted:hover {\n",
              "  /* fitted */\n",
              "  background-color: var(--sklearn-color-fitted-level-3);\n",
              "}\n",
              "</style><div id=\"sk-container-id-3\" class=\"sk-top-container\"><div class=\"sk-text-repr-fallback\"><pre>KernelDensity(bandwidth=3)</pre><b>In a Jupyter environment, please rerun this cell to show the HTML representation or trust the notebook. <br />On GitHub, the HTML representation is unable to render, please try loading this page with nbviewer.org.</b></div><div class=\"sk-container\" hidden><div class=\"sk-item\"><div class=\"sk-estimator fitted sk-toggleable\"><input class=\"sk-toggleable__control sk-hidden--visually\" id=\"sk-estimator-id-3\" type=\"checkbox\" checked><label for=\"sk-estimator-id-3\" class=\"sk-toggleable__label fitted sk-toggleable__label-arrow\"><div><div>KernelDensity</div></div><div><a class=\"sk-estimator-doc-link fitted\" rel=\"noreferrer\" target=\"_blank\" href=\"https://scikit-learn.org/1.6/modules/generated/sklearn.neighbors.KernelDensity.html\">?<span>Documentation for KernelDensity</span></a><span class=\"sk-estimator-doc-link fitted\">i<span>Fitted</span></span></div></label><div class=\"sk-toggleable__content fitted\"><pre>KernelDensity(bandwidth=3)</pre></div> </div></div></div></div>"
            ]
          },
          "metadata": {},
          "execution_count": 152
        }
      ]
    },
    {
      "cell_type": "code",
      "source": [
        "# generate 100 points\n",
        "values= np.linspace(sample.min(),sample.max(),100)\n",
        "values=values.reshape(-1,1)\n"
      ],
      "metadata": {
        "id": "djS6xV0EeoN5"
      },
      "execution_count": 153,
      "outputs": []
    },
    {
      "cell_type": "code",
      "source": [
        "probabilities_density= model.score_samples(values) #it give log of probability\n",
        "probabilities_density=np.exp(probabilities_density)"
      ],
      "metadata": {
        "id": "nisQYALufBjI"
      },
      "execution_count": 154,
      "outputs": []
    },
    {
      "cell_type": "code",
      "source": [
        "plt.hist(sample,bins=20,density=True)\n",
        "plt.plot(values,probabilities_density,'red')"
      ],
      "metadata": {
        "colab": {
          "base_uri": "https://localhost:8080/",
          "height": 453
        },
        "id": "3QsdBBwvffYP",
        "outputId": "08eee21a-a1c2-45e7-ad4c-a0670ed37750"
      },
      "execution_count": 155,
      "outputs": [
        {
          "output_type": "execute_result",
          "data": {
            "text/plain": [
              "[<matplotlib.lines.Line2D at 0x7c58dc5c5010>]"
            ]
          },
          "metadata": {},
          "execution_count": 155
        },
        {
          "output_type": "display_data",
          "data": {
            "text/plain": [
              "<Figure size 640x480 with 1 Axes>"
            ],
            "image/png": "[encoded data removed]"
          },
          "metadata": {}
        }
      ]
    },
    {
      "cell_type": "code",
      "source": [
        "sns.kdeplot(sample)"
      ],
      "metadata": {
        "colab": {
          "base_uri": "https://localhost:8080/",
          "height": 448
        },
        "id": "voS12kVMfsUH",
        "outputId": "852bf5a7-3832-4e44-8ff0-c4463bbc2394"
      },
      "execution_count": 156,
      "outputs": [
        {
          "output_type": "execute_result",
          "data": {
            "text/plain": [
              "<Axes: ylabel='Density'>"
            ]
          },
          "metadata": {},
          "execution_count": 156
        },
        {
          "output_type": "display_data",
          "data": {
            "text/plain": [
              "<Figure size 640x480 with 1 Axes>"
            ],
            "image/png": "[encoded data removed]"
          },
          "metadata": {}
        }
      ]
    }
  ]
}